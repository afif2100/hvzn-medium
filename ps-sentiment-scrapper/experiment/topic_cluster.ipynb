{
 "cells": [
  {
   "cell_type": "code",
   "execution_count": 1,
   "metadata": {},
   "outputs": [],
   "source": [
    "import transformers\n",
    "from sklearn.cluster import KMeans\n",
    "\n",
    "from sqlalchemy import create_engine\n",
    "import pandas as pd\n",
    "import os\n"
   ]
  },
  {
   "cell_type": "code",
   "execution_count": 2,
   "metadata": {},
   "outputs": [],
   "source": [
    "def get_data(dttm):\n",
    "    connection_info = {\n",
    "        \"host\": os.environ.get(\"PG_HOST\", \"localhost\"),\n",
    "        \"port\": os.environ.get(\"PG_PORT\", 5432),\n",
    "        \"db\": os.environ.get(\"PG_DATABASE\", \"playstore\"),\n",
    "        \"user\": os.environ.get(\"PG_USER\", \"postgres\"),\n",
    "        \"password\": os.environ.get(\"PG_PASS\", \"postgres\"),\n",
    "    }\n",
    "\n",
    "    # Sql engine\n",
    "    db_engine = create_engine(\n",
    "        \"postgresql+psycopg2://{}:{}@{}:{}/{}\".format(\n",
    "            connection_info[\"user\"],\n",
    "            connection_info[\"password\"],\n",
    "            connection_info[\"host\"],\n",
    "            connection_info[\"port\"],\n",
    "            connection_info[\"db\"],\n",
    "        )\n",
    "    )\n",
    "\n",
    "    query = f\"\"\"\n",
    "        SELECT \"review\".\"reviewId\"\n",
    "        , \"review\".\"apps\"\n",
    "        , \"review\".\"score\"\n",
    "        , \"review\".\"at\"\n",
    "        , \"review\".\"content\"\n",
    "        , \"review\".\"repliedAt\"\n",
    "        , \"sentiment\".\"clean_text\"\n",
    "        , \"sentiment\".\"sentiment\"\n",
    "        FROM review\n",
    "        LEFT JOIN sentiment\n",
    "        ON (\"review\".\"reviewId\"=\"sentiment\".\"reviewId\")\n",
    "        WHERE \"sentiment\".\"sentiment\" is not null\n",
    "        AND \"review\".\"at\" >= '{dttm}'\n",
    "        ORDER BY \"review\".\"at\"\n",
    "        ;\n",
    "        \"\"\"\n",
    "    df = pd.read_sql(query, db_engine)\n",
    "    df[\"repliedDurationHrs\"] = (df[\"repliedAt\"] - df[\"at\"]).apply(\n",
    "        lambda x: round(x.seconds / 3600, 2)\n",
    "    )\n",
    "\n",
    "    return df\n"
   ]
  },
  {
   "cell_type": "code",
   "execution_count": 3,
   "metadata": {},
   "outputs": [],
   "source": [
    "df = get_data(\"2023-02-01\")\n",
    "df = df['clean_text'].apply(lambda x: str.lower(x)).dropna()\n",
    "text_data = df.to_list()"
   ]
  },
  {
   "cell_type": "code",
   "execution_count": 4,
   "metadata": {},
   "outputs": [
    {
     "data": {
      "text/plain": [
       "9907"
      ]
     },
     "execution_count": 4,
     "metadata": {},
     "output_type": "execute_result"
    }
   ],
   "source": [
    "len(text_data)"
   ]
  },
  {
   "cell_type": "code",
   "execution_count": 5,
   "metadata": {},
   "outputs": [],
   "source": [
    "BERT_MODEL = \"indolem/indobert-base-uncased\""
   ]
  },
  {
   "cell_type": "code",
   "execution_count": 6,
   "metadata": {},
   "outputs": [
    {
     "name": "stderr",
     "output_type": "stream",
     "text": [
      "No sentence-transformers model found with name /home/hvzn/.cache/torch/sentence_transformers/indolem_indobert-base-uncased. Creating a new one with MEAN pooling.\n",
      "Some weights of the model checkpoint at /home/hvzn/.cache/torch/sentence_transformers/indolem_indobert-base-uncased were not used when initializing BertModel: ['cls.predictions.bias', 'cls.predictions.transform.LayerNorm.weight', 'cls.predictions.transform.dense.bias', 'cls.predictions.transform.LayerNorm.bias', 'cls.predictions.transform.dense.weight', 'cls.predictions.decoder.bias', 'cls.predictions.decoder.weight']\n",
      "- This IS expected if you are initializing BertModel from the checkpoint of a model trained on another task or with another architecture (e.g. initializing a BertForSequenceClassification model from a BertForPreTraining model).\n",
      "- This IS NOT expected if you are initializing BertModel from the checkpoint of a model that you expect to be exactly identical (initializing a BertForSequenceClassification model from a BertForSequenceClassification model).\n"
     ]
    },
    {
     "data": {
      "application/json": {
       "ascii": false,
       "bar_format": null,
       "colour": null,
       "elapsed": 0.011078119277954102,
       "initial": 0,
       "n": 0,
       "ncols": null,
       "nrows": null,
       "postfix": null,
       "prefix": "Batches",
       "rate": null,
       "total": 310,
       "unit": "it",
       "unit_divisor": 1000,
       "unit_scale": false
      },
      "application/vnd.jupyter.widget-view+json": {
       "model_id": "ce5f0f50d3a74d659de4822688148750",
       "version_major": 2,
       "version_minor": 0
      },
      "text/plain": [
       "Batches:   0%|          | 0/310 [00:00<?, ?it/s]"
      ]
     },
     "metadata": {},
     "output_type": "display_data"
    }
   ],
   "source": [
    "from sentence_transformers import SentenceTransformer\n",
    "model = SentenceTransformer(BERT_MODEL)\n",
    "embeddings = model.encode(text_data, show_progress_bar=True)"
   ]
  },
  {
   "cell_type": "code",
   "execution_count": 8,
   "metadata": {},
   "outputs": [
    {
     "name": "stderr",
     "output_type": "stream",
     "text": [
      "OMP: Info #276: omp_set_nested routine deprecated, please use omp_set_max_active_levels instead.\n"
     ]
    }
   ],
   "source": [
    "import umap\n",
    "umap_embeddings = umap.UMAP(n_neighbors=15, \n",
    "                            n_components=5, \n",
    "                            metric='cosine').fit_transform(embeddings)"
   ]
  },
  {
   "cell_type": "code",
   "execution_count": null,
   "metadata": {},
   "outputs": [],
   "source": [
    "\n",
    "import hdbscan\n",
    "cluster = hdbscan.HDBSCAN(min_cluster_size=15,\n",
    "                          metric='euclidean',                      \n",
    "                          cluster_selection_method='eom').fit(umap_embeddings)"
   ]
  },
  {
   "cell_type": "code",
   "execution_count": null,
   "metadata": {},
   "outputs": [],
   "source": []
  },
  {
   "cell_type": "code",
   "execution_count": null,
   "metadata": {},
   "outputs": [],
   "source": [
    "bert_model = transformers.BertModel.from_pretrained(\"indolem/indobert-base-uncased\")"
   ]
  },
  {
   "cell_type": "code",
   "execution_count": null,
   "metadata": {},
   "outputs": [],
   "source": [
    "# Tokenize the text data\n",
    "tokenizer = transformers.BertTokenizer.from_pretrained(\"indolem/indobert-base-uncased\")\n",
    "tokenized_data = tokenizer.batch_encode_plus(text_data, return_attention_mask=False, return_tensors='pt', padding=True)\n"
   ]
  },
  {
   "cell_type": "code",
   "execution_count": null,
   "metadata": {},
   "outputs": [],
   "source": [
    "bert_output = bert_model(tokenized_data[\"input_ids\"])\n",
    "topics = KMeans(n_clusters=5).fit_transform(bert_output[0].mean(dim=1).detach().numpy())"
   ]
  },
  {
   "cell_type": "code",
   "execution_count": null,
   "metadata": {},
   "outputs": [],
   "source": [
    "# Show the topics\n",
    "for topic in topics:\n",
    "    print(topic)"
   ]
  }
 ],
 "metadata": {
  "kernelspec": {
   "display_name": "base",
   "language": "python",
   "name": "python3"
  },
  "language_info": {
   "codemirror_mode": {
    "name": "ipython",
    "version": 3
   },
   "file_extension": ".py",
   "mimetype": "text/x-python",
   "name": "python",
   "nbconvert_exporter": "python",
   "pygments_lexer": "ipython3",
   "version": "3.9.12"
  },
  "orig_nbformat": 4,
  "vscode": {
   "interpreter": {
    "hash": "14c632ab812ffe808a4bafa5972ad8ee729169c546a896502feabc5fcbf2f0b0"
   }
  }
 },
 "nbformat": 4,
 "nbformat_minor": 2
}
