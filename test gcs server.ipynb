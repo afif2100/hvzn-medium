{
 "cells": [
  {
   "cell_type": "code",
   "execution_count": null,
   "metadata": {},
   "outputs": [],
   "source": [
    "import os\n",
    "import numpy as np\n",
    "import gcsfs\n",
    "import pickle"
   ]
  },
  {
   "cell_type": "code",
   "execution_count": null,
   "metadata": {},
   "outputs": [],
   "source": [
    "# Start Storage emulator\n",
    "from gcp_storage_emulator.server import create_server\n",
    "HOST = \"localhost\"\n",
    "PORT = 9025\n",
    "BUCKET = \"test_bucket\"\n",
    "server = create_server(HOST, PORT, in_memory=False, default_bucket=BUCKET)\n",
    "server.start()\n",
    "os.environ[\"STORAGE_EMULATOR_HOST\"] = f\"http://{HOST}:{PORT}\""
   ]
  },
  {
   "cell_type": "code",
   "execution_count": null,
   "metadata": {},
   "outputs": [],
   "source": [
    "from hvzn.utils.gcs_helper import GcsHelper"
   ]
  },
  {
   "cell_type": "code",
   "execution_count": null,
   "metadata": {},
   "outputs": [],
   "source": [
    "gcs = GcsHelper()"
   ]
  },
  {
   "cell_type": "code",
   "execution_count": null,
   "metadata": {},
   "outputs": [],
   "source": [
    "# Initial Value\n",
    "arr = np.array([0, 1, 2, 3, 4, 4, 4, 4, 6, 7, 8])\n",
    "gcs_path = \"gs://test_bucket/tests/pytest_array.pkl\""
   ]
  },
  {
   "cell_type": "code",
   "execution_count": null,
   "metadata": {},
   "outputs": [],
   "source": [
    "gcs.save_pkl_to_gcs(gcs_path=gcs_path, object=arr)"
   ]
  },
  {
   "cell_type": "code",
   "execution_count": null,
   "metadata": {},
   "outputs": [],
   "source": [
    "gcs.check_gcs_exist(gcs_path=gcs_path)"
   ]
  },
  {
   "cell_type": "code",
   "execution_count": null,
   "metadata": {},
   "outputs": [],
   "source": []
  }
 ],
 "metadata": {
  "interpreter": {
   "hash": "33afaef082fd40207d8decf88f0c9ea7f9590d11eb6ace503ff7a0855d67662a"
  },
  "kernelspec": {
   "display_name": "Python 3.8.13 ('falcon')",
   "language": "python",
   "name": "python3"
  },
  "language_info": {
   "codemirror_mode": {
    "name": "ipython",
    "version": 3
   },
   "file_extension": ".py",
   "mimetype": "text/x-python",
   "name": "python",
   "nbconvert_exporter": "python",
   "pygments_lexer": "ipython3",
   "version": "3.8.13"
  },
  "orig_nbformat": 4
 },
 "nbformat": 4,
 "nbformat_minor": 2
}
